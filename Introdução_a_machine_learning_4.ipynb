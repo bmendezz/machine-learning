{
  "nbformat": 4,
  "nbformat_minor": 0,
  "metadata": {
    "colab": {
      "name": "Introdução a machine learning 4.ipynb",
      "provenance": [],
      "authorship_tag": "ABX9TyMl5DtAjHMjFz4UeQtxwPH3",
      "include_colab_link": true
    },
    "kernelspec": {
      "name": "python3",
      "display_name": "Python 3"
    },
    "language_info": {
      "name": "python"
    }
  },
  "cells": [
    {
      "cell_type": "markdown",
      "metadata": {
        "id": "view-in-github",
        "colab_type": "text"
      },
      "source": [
        "<a href=\"https://colab.research.google.com/github/bmendezz/machine-learning/blob/main/Introdu%C3%A7%C3%A3o_a_machine_learning_4.ipynb\" target=\"_parent\"><img src=\"https://colab.research.google.com/assets/colab-badge.svg\" alt=\"Open In Colab\"/></a>"
      ]
    },
    {
      "cell_type": "markdown",
      "source": [
        "# Manipulação Pandas"
      ],
      "metadata": {
        "id": "3tJLtFLbzw_y"
      }
    },
    {
      "cell_type": "code",
      "execution_count": 55,
      "metadata": {
        "colab": {
          "base_uri": "https://localhost:8080/",
          "height": 206
        },
        "id": "mXZKXP4Jr_kl",
        "outputId": "21d44a22-0b1a-48b3-d448-82032ef203c5"
      },
      "outputs": [
        {
          "output_type": "execute_result",
          "data": {
            "text/html": [
              "<div>\n",
              "<style scoped>\n",
              "    .dataframe tbody tr th:only-of-type {\n",
              "        vertical-align: middle;\n",
              "    }\n",
              "\n",
              "    .dataframe tbody tr th {\n",
              "        vertical-align: top;\n",
              "    }\n",
              "\n",
              "    .dataframe thead th {\n",
              "        text-align: right;\n",
              "    }\n",
              "</style>\n",
              "<table border=\"1\" class=\"dataframe\">\n",
              "  <thead>\n",
              "    <tr style=\"text-align: right;\">\n",
              "      <th></th>\n",
              "      <th>preco</th>\n",
              "      <th>vendido</th>\n",
              "      <th>idade_do_modelo</th>\n",
              "      <th>km_por_ano</th>\n",
              "    </tr>\n",
              "  </thead>\n",
              "  <tbody>\n",
              "    <tr>\n",
              "      <th>0</th>\n",
              "      <td>30941.02</td>\n",
              "      <td>1</td>\n",
              "      <td>21</td>\n",
              "      <td>35085.22134</td>\n",
              "    </tr>\n",
              "    <tr>\n",
              "      <th>1</th>\n",
              "      <td>40557.96</td>\n",
              "      <td>1</td>\n",
              "      <td>23</td>\n",
              "      <td>12622.05362</td>\n",
              "    </tr>\n",
              "    <tr>\n",
              "      <th>2</th>\n",
              "      <td>89627.50</td>\n",
              "      <td>0</td>\n",
              "      <td>15</td>\n",
              "      <td>11440.79806</td>\n",
              "    </tr>\n",
              "    <tr>\n",
              "      <th>3</th>\n",
              "      <td>95276.14</td>\n",
              "      <td>0</td>\n",
              "      <td>6</td>\n",
              "      <td>43167.32682</td>\n",
              "    </tr>\n",
              "    <tr>\n",
              "      <th>4</th>\n",
              "      <td>117384.68</td>\n",
              "      <td>1</td>\n",
              "      <td>7</td>\n",
              "      <td>12770.11290</td>\n",
              "    </tr>\n",
              "  </tbody>\n",
              "</table>\n",
              "</div>"
            ],
            "text/plain": [
              "       preco  vendido  idade_do_modelo   km_por_ano\n",
              "0   30941.02        1               21  35085.22134\n",
              "1   40557.96        1               23  12622.05362\n",
              "2   89627.50        0               15  11440.79806\n",
              "3   95276.14        0                6  43167.32682\n",
              "4  117384.68        1                7  12770.11290"
            ]
          },
          "metadata": {},
          "execution_count": 55
        }
      ],
      "source": [
        "import pandas as pd \n",
        "import numpy as np \n",
        "from datetime import datetime\n",
        "\n",
        "ano_atual = datetime.today().year\n",
        "\n",
        "\n",
        "uri = 'https://gist.githubusercontent.com/guilhermesilveira/4d1d4a16ccbf6ea4e0a64a38a24ec884/raw/afd05cb0c796d18f3f5a6537053ded308ba94bf7/car-prices.csv'\n",
        "dados = pd.read_csv(uri)\n",
        "\n",
        "\n",
        "a_renomear = {\n",
        "    'mileage_per_year' : 'milhas_por_ano',\n",
        "    'model_year': 'ano_do_modelo',\n",
        "    'price':'preco',\n",
        "    'sold':'vendido'\n",
        "}\n",
        "\n",
        "# swap em nos valores\n",
        "a_trocar = {\n",
        "    'no':0,\n",
        "    'yes':1\n",
        "}\n",
        "\n",
        "\n",
        "dados = dados.rename(columns = a_renomear)\n",
        "dados.vendido = dados.vendido.map(a_trocar)\n",
        "\n",
        "#adiconar coluna com idade dos veiculos\n",
        "dados['idade_do_modelo'] = ano_atual - dados.ano_do_modelo\n",
        "\n",
        "#converter milhas para Km\n",
        "dados['km_por_ano'] = (dados.milhas_por_ano * 1.60934)\n",
        "\n",
        "#Remover colunas \n",
        "dados = dados.drop(columns = [\"Unnamed: 0\", \"milhas_por_ano\", \"ano_do_modelo\"], axis=1)\n",
        "\n",
        "dados.head()"
      ]
    },
    {
      "cell_type": "markdown",
      "source": [
        "# Modelagem / Manipulação Sklearn"
      ],
      "metadata": {
        "id": "P4AwmNPgz6OS"
      }
    },
    {
      "cell_type": "code",
      "source": [
        "# modelagem X e Y\n",
        "x = dados[['preco','idade_do_modelo','km_por_ano']]\n",
        "y = dados[['vendido']]"
      ],
      "metadata": {
        "id": "w7VU29vkxNwC"
      },
      "execution_count": 58,
      "outputs": []
    },
    {
      "cell_type": "code",
      "source": [
        "# modelagem padrão #LinearSVC (teste)\n",
        "#import numpy as np\n",
        "import pandas as pd\n",
        "\n",
        "from sklearn.model_selection import train_test_split as tts\n",
        "from sklearn.svm import LinearSVC\n",
        "from sklearn.metrics import accuracy_score\n",
        "\n",
        "SEED = 5\n",
        "np.random.seed(SEED)\n",
        "treino_x, teste_x, treino_y, teste_y = tts(x, y , test_size = 0.25, stratify = y)\n",
        "\n",
        "print( \"Treinaremos com %d elementos e testaremos com %d elementos \" % ( len(treino_x), len(teste_x) ))\n",
        "\n",
        "# Treinar modelo \n",
        "\n",
        "modelo = LinearSVC()\n",
        "modelo.fit(treino_x, treino_y)\n",
        "previsoes = modelo.predict(teste_x)\n",
        "acuracia = accuracy_score(teste_y, previsoes) * 100"
      ],
      "metadata": {
        "id": "jsHTYvVJybGa"
      },
      "execution_count": null,
      "outputs": []
    },
    {
      "cell_type": "code",
      "source": [
        "print( \"Treinaremos com: %d elementos e testaremos com: %d elementos.\" % ( len(treino_x), len(teste_x) ))\n",
        "\n",
        "print('A acurácia foi: %.2f%%' % acuracia)"
      ],
      "metadata": {
        "colab": {
          "base_uri": "https://localhost:8080/"
        },
        "id": "Alasg9D3zgfy",
        "outputId": "274ea9e8-039d-4991-c7aa-3088a45f2427"
      },
      "execution_count": 98,
      "outputs": [
        {
          "output_type": "stream",
          "name": "stdout",
          "text": [
            "Treinaremos com: 7500 elementos e testaremos com: 2500 elementos.\n",
            "A acurácia foi: 58.00%\n"
          ]
        }
      ]
    },
    {
      "cell_type": "markdown",
      "source": [
        "# Dummy Classifier"
      ],
      "metadata": {
        "id": "3xM-f1CO7yoR"
      }
    },
    {
      "cell_type": "code",
      "source": [
        ""
      ],
      "metadata": {
        "id": "zuKsB--J37K5"
      },
      "execution_count": null,
      "outputs": []
    }
  ]
}
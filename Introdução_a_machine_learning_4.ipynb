{
  "nbformat": 4,
  "nbformat_minor": 0,
  "metadata": {
    "colab": {
      "name": "Introdução a machine learning 4.ipynb",
      "provenance": [],
      "authorship_tag": "ABX9TyPj6KWmHsK0PfysyUHwpI/m",
      "include_colab_link": true
    },
    "kernelspec": {
      "name": "python3",
      "display_name": "Python 3"
    },
    "language_info": {
      "name": "python"
    }
  },
  "cells": [
    {
      "cell_type": "markdown",
      "metadata": {
        "id": "view-in-github",
        "colab_type": "text"
      },
      "source": [
        "<a href=\"https://colab.research.google.com/github/bmendezz/machine-learning/blob/main/Introdu%C3%A7%C3%A3o_a_machine_learning_4.ipynb\" target=\"_parent\"><img src=\"https://colab.research.google.com/assets/colab-badge.svg\" alt=\"Open In Colab\"/></a>"
      ]
    },
    {
      "cell_type": "markdown",
      "source": [
        "# Manipulação Pandas"
      ],
      "metadata": {
        "id": "3tJLtFLbzw_y"
      }
    },
    {
      "cell_type": "code",
      "execution_count": 20,
      "metadata": {
        "colab": {
          "base_uri": "https://localhost:8080/",
          "height": 206
        },
        "id": "mXZKXP4Jr_kl",
        "outputId": "2e810381-b309-4b0a-8cfc-590f701ea56d"
      },
      "outputs": [
        {
          "output_type": "execute_result",
          "data": {
            "text/html": [
              "<div>\n",
              "<style scoped>\n",
              "    .dataframe tbody tr th:only-of-type {\n",
              "        vertical-align: middle;\n",
              "    }\n",
              "\n",
              "    .dataframe tbody tr th {\n",
              "        vertical-align: top;\n",
              "    }\n",
              "\n",
              "    .dataframe thead th {\n",
              "        text-align: right;\n",
              "    }\n",
              "</style>\n",
              "<table border=\"1\" class=\"dataframe\">\n",
              "  <thead>\n",
              "    <tr style=\"text-align: right;\">\n",
              "      <th></th>\n",
              "      <th>preco</th>\n",
              "      <th>vendido</th>\n",
              "      <th>idade_do_modelo</th>\n",
              "      <th>km_por_ano</th>\n",
              "    </tr>\n",
              "  </thead>\n",
              "  <tbody>\n",
              "    <tr>\n",
              "      <th>0</th>\n",
              "      <td>30941.02</td>\n",
              "      <td>1</td>\n",
              "      <td>21</td>\n",
              "      <td>35085.22134</td>\n",
              "    </tr>\n",
              "    <tr>\n",
              "      <th>1</th>\n",
              "      <td>40557.96</td>\n",
              "      <td>1</td>\n",
              "      <td>23</td>\n",
              "      <td>12622.05362</td>\n",
              "    </tr>\n",
              "    <tr>\n",
              "      <th>2</th>\n",
              "      <td>89627.50</td>\n",
              "      <td>0</td>\n",
              "      <td>15</td>\n",
              "      <td>11440.79806</td>\n",
              "    </tr>\n",
              "    <tr>\n",
              "      <th>3</th>\n",
              "      <td>95276.14</td>\n",
              "      <td>0</td>\n",
              "      <td>6</td>\n",
              "      <td>43167.32682</td>\n",
              "    </tr>\n",
              "    <tr>\n",
              "      <th>4</th>\n",
              "      <td>117384.68</td>\n",
              "      <td>1</td>\n",
              "      <td>7</td>\n",
              "      <td>12770.11290</td>\n",
              "    </tr>\n",
              "  </tbody>\n",
              "</table>\n",
              "</div>"
            ],
            "text/plain": [
              "       preco  vendido  idade_do_modelo   km_por_ano\n",
              "0   30941.02        1               21  35085.22134\n",
              "1   40557.96        1               23  12622.05362\n",
              "2   89627.50        0               15  11440.79806\n",
              "3   95276.14        0                6  43167.32682\n",
              "4  117384.68        1                7  12770.11290"
            ]
          },
          "metadata": {},
          "execution_count": 20
        }
      ],
      "source": [
        "import pandas as pd \n",
        "import numpy as np \n",
        "from datetime import datetime\n",
        "\n",
        "ano_atual = datetime.today().year\n",
        "\n",
        "\n",
        "uri = 'https://gist.githubusercontent.com/guilhermesilveira/4d1d4a16ccbf6ea4e0a64a38a24ec884/raw/afd05cb0c796d18f3f5a6537053ded308ba94bf7/car-prices.csv'\n",
        "dados = pd.read_csv(uri)\n",
        "\n",
        "\n",
        "a_renomear = {\n",
        "    'mileage_per_year' : 'milhas_por_ano',\n",
        "    'model_year': 'ano_do_modelo',\n",
        "    'price':'preco',\n",
        "    'sold':'vendido'\n",
        "}\n",
        "\n",
        "# swap em nos valores\n",
        "a_trocar = {\n",
        "    'no':0,\n",
        "    'yes':1\n",
        "}\n",
        "\n",
        "\n",
        "dados = dados.rename(columns = a_renomear)\n",
        "dados.vendido = dados.vendido.map(a_trocar)\n",
        "\n",
        "#adiconar coluna com idade dos veiculos\n",
        "dados['idade_do_modelo'] = ano_atual - dados.ano_do_modelo\n",
        "\n",
        "#converter milhas para Km\n",
        "dados['km_por_ano'] = (dados.milhas_por_ano * 1.60934)\n",
        "\n",
        "#Remover colunas \n",
        "dados = dados.drop(columns = [\"Unnamed: 0\", \"milhas_por_ano\", \"ano_do_modelo\"], axis=1)\n",
        "\n",
        "dados.head()"
      ]
    },
    {
      "cell_type": "markdown",
      "source": [
        "# Modelagem / Manipulação Sklearn"
      ],
      "metadata": {
        "id": "P4AwmNPgz6OS"
      }
    },
    {
      "cell_type": "code",
      "source": [
        "# modelagem X e Y\n",
        "x = dados[['preco','idade_do_modelo','km_por_ano']]\n",
        "y = dados[['vendido']]"
      ],
      "metadata": {
        "id": "w7VU29vkxNwC"
      },
      "execution_count": 21,
      "outputs": []
    },
    {
      "cell_type": "code",
      "source": [
        "# modelagem padrão #LinearSVC (teste)\n",
        "#import numpy as np\n",
        "import pandas as pd\n",
        "\n",
        "from sklearn.model_selection import train_test_split as tts\n",
        "from sklearn.svm import LinearSVC\n",
        "from sklearn.metrics import accuracy_score\n",
        "\n",
        "SEED = 5\n",
        "np.random.seed(SEED)\n",
        "treino_x, teste_x, treino_y, teste_y = tts(x, y , test_size = 0.25, stratify = y)\n",
        "\n",
        "print( \"Treinaremos com %d elementos e testaremos com %d elementos \" % ( len(treino_x), len(teste_x) ))\n",
        "\n",
        "# Treinar modelo \n",
        "\n",
        "modelo = LinearSVC()\n",
        "modelo.fit(treino_x, treino_y)\n",
        "previsoes = modelo.predict(teste_x)\n",
        "acuracia = accuracy_score(teste_y, previsoes) * 100"
      ],
      "metadata": {
        "id": "jsHTYvVJybGa"
      },
      "execution_count": null,
      "outputs": []
    },
    {
      "cell_type": "code",
      "source": [
        "print( \"Treinaremos com: %d elementos e testaremos com: %d elementos.\" % ( len(treino_x), len(teste_x) ))\n",
        "\n",
        "print('A acurácia foi: %.2f%%' % acuracia)"
      ],
      "metadata": {
        "colab": {
          "base_uri": "https://localhost:8080/"
        },
        "id": "Alasg9D3zgfy",
        "outputId": "7b2f5264-e952-4ac6-e3e8-b56aefb79b4d"
      },
      "execution_count": 23,
      "outputs": [
        {
          "output_type": "stream",
          "name": "stdout",
          "text": [
            "Treinaremos com: 7500 elementos e testaremos com: 2500 elementos.\n",
            "A acurácia foi: 58.00%\n"
          ]
        }
      ]
    },
    {
      "cell_type": "markdown",
      "source": [
        "# Dummy Classifier"
      ],
      "metadata": {
        "id": "3xM-f1CO7yoR"
      }
    },
    {
      "cell_type": "code",
      "source": [
        "from sklearn.dummy import DummyClassifier\n",
        "\n",
        "dummy = DummyClassifier()\n",
        "dummy.fit( treino_x, treino_y)\n",
        "previsoes = dummy.predict(teste_x)\n",
        "\n",
        "acuracia = accuracy_score(teste_y, previsoes) * 100\n",
        "acuracia"
      ],
      "metadata": {
        "colab": {
          "base_uri": "https://localhost:8080/"
        },
        "id": "zuKsB--J37K5",
        "outputId": "5be8fa99-d380-4a7a-e3b3-422c33122b86"
      },
      "execution_count": 31,
      "outputs": [
        {
          "output_type": "execute_result",
          "data": {
            "text/plain": [
              "57.99999999999999"
            ]
          },
          "metadata": {},
          "execution_count": 31
        }
      ]
    },
    {
      "cell_type": "markdown",
      "source": [
        "DUMMY ESTRATIFICADO"
      ],
      "metadata": {
        "id": "_nZorwgM9ASR"
      }
    },
    {
      "cell_type": "code",
      "source": [
        "from sklearn.dummy import DummyClassifier\n",
        "\n",
        "dummy_stratified = DummyClassifier(strategy='stratified')\n",
        "dummy_stratified.fit(treino_x, treino_y)\n",
        "previsoes = dummy_stratified.predict(teste_x)\n",
        "\n",
        "acuracia = accuracy_score(teste_y, previsoes) * 100\n",
        "print(\"A acurácia do dummy foi %.2f%%\" % acuracia)"
      ],
      "metadata": {
        "colab": {
          "base_uri": "https://localhost:8080/"
        },
        "id": "lmwoCF6I8iux",
        "outputId": "f3cf8bbe-a930-41fd-bb26-c6de7c71de07"
      },
      "execution_count": 32,
      "outputs": [
        {
          "output_type": "stream",
          "name": "stdout",
          "text": [
            "A acurácia do dummy foi 52.44%\n"
          ]
        }
      ]
    },
    {
      "cell_type": "markdown",
      "source": [
        "DUMMY MOST FREQUENT"
      ],
      "metadata": {
        "id": "w6--Z-fy9-7I"
      }
    },
    {
      "cell_type": "code",
      "source": [
        "dummy_mostfrequent = DummyClassifier(strategy=\"most_frequent\")\n",
        "dummy_mostfrequent.fit(treino_x, treino_y)\n",
        "\n",
        "acuracia = dummy_stratified.score(teste_x, teste_y) * 100\n",
        "print(\"A acurácia do dummy mostfrequent foi %.2f%%\" % acuracia)\n"
      ],
      "metadata": {
        "colab": {
          "base_uri": "https://localhost:8080/"
        },
        "id": "PwT1D_Kd9iZA",
        "outputId": "76463884-a81d-4862-f005-ba1e63146188"
      },
      "execution_count": 28,
      "outputs": [
        {
          "output_type": "stream",
          "name": "stdout",
          "text": [
            "A acurácia do dummy mostfrequent foi 50.68%\n"
          ]
        }
      ]
    },
    {
      "cell_type": "code",
      "source": [
        "from sklearn.preprocessing import StandardScaler\n",
        "from sklearn.model_selection import train_test_split as tts\n",
        "from sklearn.svm import SVC\n",
        "from sklearn.metrics import accuracy_score\n",
        "\n",
        "SEED = 5\n",
        "np.random.seed(SEED)\n",
        "raw_treino_x, raw_teste_x, treino_y, teste_y = tts(x, y, test_size = 0.25,\n",
        "                                                         stratify = y)\n",
        "print(\"Treinaremos com %d elementos e testaremos com %d elementos\" % (len(treino_x), len(teste_x)))\n",
        "\n",
        "\n",
        "#Escalar colunas X <-> Y\n",
        "scaler = StandardScaler()\n",
        "scaler.fit(raw_treino_x)\n",
        "treino_x = scaler.transform(raw_treino_x)\n",
        "teste_x = scaler.transform(raw_teste_x)\n",
        "\n",
        "modelo = SVC()\n",
        "modelo.fit(treino_x, treino_y)\n",
        "previsoes = modelo.predict(teste_x)\n",
        "\n",
        "acuracia = accuracy_score(teste_y, previsoes) * 100"
      ],
      "metadata": {
        "id": "KN7C9DVy-LFt"
      },
      "execution_count": null,
      "outputs": []
    },
    {
      "cell_type": "code",
      "source": [
        "print(\"A acurácia foi %.2f%%\" % acuracia)"
      ],
      "metadata": {
        "colab": {
          "base_uri": "https://localhost:8080/"
        },
        "id": "ZmLaSJpkAAkZ",
        "outputId": "3ac2ad57-391b-4515-9ba1-eb2cd48b906d"
      },
      "execution_count": 30,
      "outputs": [
        {
          "output_type": "stream",
          "name": "stdout",
          "text": [
            "A acurácia foi 77.48%\n"
          ]
        }
      ]
    },
    {
      "cell_type": "code",
      "source": [
        ""
      ],
      "metadata": {
        "id": "RP5V0kzQAD8I"
      },
      "execution_count": null,
      "outputs": []
    }
  ]
}
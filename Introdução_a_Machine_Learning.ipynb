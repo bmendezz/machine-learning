{
  "nbformat": 4,
  "nbformat_minor": 0,
  "metadata": {
    "colab": {
      "name": "Introdução a Machine Learning.ipynb",
      "provenance": [],
      "authorship_tag": "ABX9TyMroroWR5lIPcximg+ydGmv",
      "include_colab_link": true
    },
    "kernelspec": {
      "name": "python3",
      "display_name": "Python 3"
    },
    "language_info": {
      "name": "python"
    }
  },
  "cells": [
    {
      "cell_type": "markdown",
      "metadata": {
        "id": "view-in-github",
        "colab_type": "text"
      },
      "source": [
        "<a href=\"https://colab.research.google.com/github/bmendezz/machine-learning/blob/main/Introdu%C3%A7%C3%A3o_a_Machine_Learning.ipynb\" target=\"_parent\"><img src=\"https://colab.research.google.com/assets/colab-badge.svg\" alt=\"Open In Colab\"/></a>"
      ]
    },
    {
      "cell_type": "code",
      "execution_count": 1,
      "metadata": {
        "id": "51KdBdB472s_"
      },
      "outputs": [],
      "source": [
        "# featurres (Caracteristicas)\n",
        "# pelo longo?\n",
        "# perna curta?\n",
        "# late?"
      ]
    },
    {
      "cell_type": "code",
      "source": [
        "pig1 = [0,1,0]\n",
        "pig2 = [0,1,1]\n",
        "pig3 = [1,1,0]\n",
        "\n",
        "dog1 = [0,1,1]\n",
        "dog2 = [1,0,1]\n",
        "dog3 = [1,1,1]\n",
        "\n",
        "# 1 => PIG | 0 => DOG\n",
        "treino_x = [pig1,pig2,pig3,dog1,dog2,dog3]\n",
        "treino_y = [1,1,1,0,0,0]"
      ],
      "metadata": {
        "id": "9VVHk3ry8Jhx"
      },
      "execution_count": 2,
      "outputs": []
    },
    {
      "cell_type": "code",
      "source": [
        "from sklearn.svm import LinearSVC\n",
        "\n",
        "model = LinearSVC()\n",
        "model.fit( treino_x, treino_y )"
      ],
      "metadata": {
        "colab": {
          "base_uri": "https://localhost:8080/"
        },
        "id": "kbtPKefv-XAe",
        "outputId": "b6aaf1cd-899e-4902-aadd-a5515d31bbc4"
      },
      "execution_count": 3,
      "outputs": [
        {
          "output_type": "execute_result",
          "data": {
            "text/plain": [
              "LinearSVC()"
            ]
          },
          "metadata": {},
          "execution_count": 3
        }
      ]
    },
    {
      "cell_type": "code",
      "source": [
        "animal_misterioso = [1,1,1]\n",
        "model.predict([animal_misterioso])"
      ],
      "metadata": {
        "colab": {
          "base_uri": "https://localhost:8080/"
        },
        "id": "buepUvVs-1NG",
        "outputId": "2f38ff1a-160e-47fc-9b10-6e8bc0c6f3ef"
      },
      "execution_count": 4,
      "outputs": [
        {
          "output_type": "execute_result",
          "data": {
            "text/plain": [
              "array([0])"
            ]
          },
          "metadata": {},
          "execution_count": 4
        }
      ]
    },
    {
      "cell_type": "code",
      "source": [
        "misterio1 = [1,1,1]\n",
        "misterio2 = [1,1,0]\n",
        "misterio3 = [0,1,1]\n",
        "\n",
        "teste_x = [misterio1,misterio2,misterio3]\n",
        "teste_y = [0,1,1]\n",
        "\n"
      ],
      "metadata": {
        "id": "oAUGIK7g_Iy1"
      },
      "execution_count": 5,
      "outputs": []
    },
    {
      "cell_type": "code",
      "source": [
        "previsoes = model.predict(teste_x)"
      ],
      "metadata": {
        "id": "QzPpeSHRFVPX"
      },
      "execution_count": 6,
      "outputs": []
    },
    {
      "cell_type": "code",
      "source": [
        "corretos = (previsoes == teste_y).sum()\n",
        "total = len(teste_x)\n",
        "taxa_de_acetrto = corretos/total\n",
        "\n",
        "taxa_de_acerto = (taxa_de_acetrto * 100)\n",
        "taxa_de_acetrto = '{:.2f}'.format(taxa_de_acerto)\n",
        "print (\"Taxa de acerto {}%\".format(taxa_de_acetrto))\n"
      ],
      "metadata": {
        "colab": {
          "base_uri": "https://localhost:8080/"
        },
        "id": "zT4cAb7mAkBO",
        "outputId": "dd472c7f-e2f1-4f29-ea3f-b77053248264"
      },
      "execution_count": 7,
      "outputs": [
        {
          "output_type": "stream",
          "name": "stdout",
          "text": [
            "Taxa de acerto 66.67%\n"
          ]
        }
      ]
    },
    {
      "cell_type": "code",
      "source": [
        "from sklearn.metrics import accuracy_score\n",
        "\n",
        "taxa_de_acetrto = accuracy_score(teste_y, previsoes)\n",
        "taxa_de_acerto = (taxa_de_acetrto * 100)\n",
        "taxa_de_acetrto = '{:.2f}'.format(taxa_de_acerto)\n",
        "print (\"Taxa de acerto {}%\".format(taxa_de_acetrto))"
      ],
      "metadata": {
        "colab": {
          "base_uri": "https://localhost:8080/"
        },
        "id": "z8i6BttzBU77",
        "outputId": "8bc8e7e6-5193-4fe0-8d6b-84120ea3dde1"
      },
      "execution_count": 8,
      "outputs": [
        {
          "output_type": "stream",
          "name": "stdout",
          "text": [
            "Taxa de acerto 66.67%\n"
          ]
        }
      ]
    },
    {
      "cell_type": "code",
      "source": [
        ""
      ],
      "metadata": {
        "id": "YwEzAeSYK2kJ"
      },
      "execution_count": null,
      "outputs": []
    }
  ]
}
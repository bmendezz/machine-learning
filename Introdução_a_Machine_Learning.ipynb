{
  "nbformat": 4,
  "nbformat_minor": 0,
  "metadata": {
    "colab": {
      "name": "Introdução a Machine Learning.ipynb",
      "provenance": [],
      "authorship_tag": "ABX9TyOPt+eAONf34WBcFlJZELc7",
      "include_colab_link": true
    },
    "kernelspec": {
      "name": "python3",
      "display_name": "Python 3"
    },
    "language_info": {
      "name": "python"
    }
  },
  "cells": [
    {
      "cell_type": "markdown",
      "metadata": {
        "id": "view-in-github",
        "colab_type": "text"
      },
      "source": [
        "<a href=\"https://colab.research.google.com/github/bmendezz/machine-learning/blob/main/Introdu%C3%A7%C3%A3o_a_Machine_Learning.ipynb\" target=\"_parent\"><img src=\"https://colab.research.google.com/assets/colab-badge.svg\" alt=\"Open In Colab\"/></a>"
      ]
    },
    {
      "cell_type": "code",
      "execution_count": null,
      "metadata": {
        "id": "51KdBdB472s_"
      },
      "outputs": [],
      "source": [
        "# featurres (Caracteristicas)\n",
        "# pelo longo?\n",
        "# perna curta?\n",
        "# late?"
      ]
    },
    {
      "cell_type": "code",
      "source": [
        "pig1 = [0,1,0]\n",
        "pig2 = [0,1,1]\n",
        "pig3 = [1,1,0]\n",
        "\n",
        "dog1 = [0,1,1]\n",
        "dog2 = [1,0,1]\n",
        "dog3 = [1,1,1]\n",
        "\n",
        "# 1 => PIG | 0 => DOG\n",
        "dados = [pig1,pig2,pig3,dog1,dog2,dog3]\n",
        "classes = [1,1,1,0,0,0]"
      ],
      "metadata": {
        "id": "9VVHk3ry8Jhx"
      },
      "execution_count": null,
      "outputs": []
    },
    {
      "cell_type": "code",
      "source": [
        "from sklearn.svm import LinearSVC\n",
        "\n",
        "model = LinearSVC()\n",
        "model.fit( dados, classes )"
      ],
      "metadata": {
        "colab": {
          "base_uri": "https://localhost:8080/"
        },
        "id": "kbtPKefv-XAe",
        "outputId": "05e6c8f5-23db-494c-f6d9-cc0100306383"
      },
      "execution_count": null,
      "outputs": [
        {
          "output_type": "execute_result",
          "data": {
            "text/plain": [
              "LinearSVC()"
            ]
          },
          "metadata": {},
          "execution_count": 15
        }
      ]
    },
    {
      "cell_type": "code",
      "source": [
        "animal_misterioso = [1,1,1]\n",
        "model.predict([animal_misterioso])"
      ],
      "metadata": {
        "colab": {
          "base_uri": "https://localhost:8080/"
        },
        "id": "buepUvVs-1NG",
        "outputId": "0d9fdca4-8810-438e-f22d-63fd88c40216"
      },
      "execution_count": null,
      "outputs": [
        {
          "output_type": "execute_result",
          "data": {
            "text/plain": [
              "array([0])"
            ]
          },
          "metadata": {},
          "execution_count": 16
        }
      ]
    },
    {
      "cell_type": "code",
      "source": [
        "misterio1 = [1,1,1]\n",
        "misterio2 = [1,1,0]\n",
        "misterio3 = [0,1,1]\n",
        "\n",
        "testes = [misterio1,misterio2,misterio3]\n",
        "previsoes = model.predict(testes)"
      ],
      "metadata": {
        "id": "oAUGIK7g_Iy1"
      },
      "execution_count": null,
      "outputs": []
    },
    {
      "cell_type": "code",
      "source": [
        "testes_classes = [0,1,1]"
      ],
      "metadata": {
        "id": "lh4A6cy-_jdn"
      },
      "execution_count": null,
      "outputs": []
    },
    {
      "cell_type": "code",
      "source": [
        "corretos = (previsoes == testes_classes).sum()\n",
        "total = len(testes)\n",
        "taxa_de_acetrto = corretos/total\n",
        "\n",
        "print(taxa_de_acetrto*100)\n"
      ],
      "metadata": {
        "colab": {
          "base_uri": "https://localhost:8080/"
        },
        "id": "zT4cAb7mAkBO",
        "outputId": "03dd31de-96ab-436c-a827-91a8c60bf18d"
      },
      "execution_count": null,
      "outputs": [
        {
          "output_type": "stream",
          "name": "stdout",
          "text": [
            "66.66666666666666\n"
          ]
        }
      ]
    },
    {
      "cell_type": "code",
      "source": [
        "from sklearn.metrics import accuracy_score\n",
        "\n",
        "taxa_de_acetrto = accuracy_score(testes_classes,previsoes)\n",
        "print(taxa_de_acetrto * 100)"
      ],
      "metadata": {
        "colab": {
          "base_uri": "https://localhost:8080/"
        },
        "id": "z8i6BttzBU77",
        "outputId": "0df201f4-adba-42ac-f6f6-8edf4ea9f283"
      },
      "execution_count": null,
      "outputs": [
        {
          "output_type": "stream",
          "name": "stdout",
          "text": [
            "66.66666666666666\n"
          ]
        }
      ]
    },
    {
      "cell_type": "code",
      "source": [
        ""
      ],
      "metadata": {
        "id": "vPpr-wIUButW"
      },
      "execution_count": null,
      "outputs": []
    }
  ]
}